{
 "cells": [
  {
   "cell_type": "markdown",
   "metadata": {},
   "source": [
    "# General Information\n",
    "This python code using flight data to obtain constrain, cost function and pairings.\n",
    "<br>\n",
    "Using Paper:  _**Robust Crew Pairing for Managing Extra Flights**_\n",
    "<br>\n",
    "Bases are; <br \\>\n",
    "    1 - Ankara <br \\>\n",
    "<br>\n",
    "Constraints are;\n",
    "\n",
    "|      Name      |        Description            |    Value     |\n",
    "|----------------|-------------------------------|--------------|\n",
    "| $t^{min}_{s}$  |  Minimum Sit Time             |  $60$  min   |\n",
    "| $t^{max}_{s}$  |  Maximum Sit Time             |  $240$ min   |\n",
    "| $t^{min}_{r}$  |  Minimum Rest Time            |  $600$ min   |\n",
    "| $t^{max}_{r}$  |  Maximum Rest Time            |  $980$ min   |\n",
    "| $N_{p}      $  |  Total Day in one Pairing     |  $4$ Day     |\n",
    "| $N_{d}      $  |  Number of flight in one Duty |  $3$ Flight  |\n",
    "| $T_{d}      $  |  Max Total (1- Duty) Time     |  $7$ Hour    |\n",
    "| $T_{f}      $  |  Max Total (1- Duty) Time     |  $5$ Hour    | \n",
    "\n",
    "Earnings are;"
   ]
  },
  {
   "cell_type": "markdown",
   "metadata": {},
   "source": [
    "# Python Data Prepering\n",
    "## Import and From Libraries"
   ]
  },
  {
   "cell_type": "code",
   "execution_count": null,
   "metadata": {},
   "outputs": [],
   "source": [
    "import pandas as pd           # Importing Pandas Library\n",
    "import numpy as np            # Importing Numpy Library\n",
    "from datetime import datetime # Importing Date Time to allow us doing math between two time\n",
    "import scipy.io as sio        # Importing Sio to allow saving our mat files."
   ]
  },
  {
   "cell_type": "markdown",
   "metadata": {},
   "source": [
    "## Reading CSV Flight Data"
   ]
  },
  {
   "cell_type": "code",
   "execution_count": null,
   "metadata": {},
   "outputs": [],
   "source": [
    "DataPath   = r'Data File/FlightDataSet38.csv'             # Definition of Data Path\n",
    "FlightData = pd.read_csv(DataPath, sep=',', dtype=str)  # Flight Data reading from csv file\n",
    "FlightData.head(5)                                      # Visualize first 5 row"
   ]
  },
  {
   "cell_type": "markdown",
   "metadata": {},
   "source": [
    "## Chaning Data Type to Array and Obtaining Links"
   ]
  },
  {
   "cell_type": "code",
   "execution_count": null,
   "metadata": {},
   "outputs": [],
   "source": [
    "FlightData = FlightData.values # Changing Data Type to Array"
   ]
  },
  {
   "cell_type": "code",
   "execution_count": null,
   "metadata": {},
   "outputs": [],
   "source": [
    "# Saving Arrival and Departures\n",
    "Arrival = FlightData[:,2]\n",
    "Departure = FlightData[:,1]\n",
    "Dep_Flight_Ank = np.array(np.where(Departure == 'ANT'))\n",
    "Arr_Flight_Ank = np.array(np.where(Arrival =='ANT'))\n",
    "foo = []\n",
    "for i in range(Dep_Flight_Ank.shape[1]):\n",
    "    for j in range(Arr_Flight_Ank.shape[1]):\n",
    "        foo.append((Dep_Flight_Ank[0][i],Arr_Flight_Ank[0][j])) "
   ]
  },
  {
   "cell_type": "code",
   "execution_count": null,
   "metadata": {},
   "outputs": [],
   "source": [
    "# Obtaining Links with for loop\n",
    "Flight_links = []\n",
    "for i in range(len(FlightData)):\n",
    "    for j in range(len(FlightData)):\n",
    "        if FlightData[i][2] == FlightData[j][1]:\n",
    "            Flight_links.append((FlightData[i,1:5], FlightData[j,1:5], 'Flight IDs :', i+1,j+1))"
   ]
  },
  {
   "cell_type": "code",
   "execution_count": null,
   "metadata": {},
   "outputs": [],
   "source": [
    "Flight_links"
   ]
  },
  {
   "cell_type": "markdown",
   "metadata": {},
   "source": [
    "## Using Sit Time Constraint to Eliminate Unnecessary Links\n",
    "Minimum Sitting Time is 60 min. <br \\>\n",
    "Maximum Sitting Time is 240 min.  <br \\>\n",
    "According to these constraints we can eliminate links with using for loops"
   ]
  },
  {
   "cell_type": "code",
   "execution_count": null,
   "metadata": {},
   "outputs": [],
   "source": [
    "# New Links with Constarints\n",
    "Cons_Flight_links = []\n",
    "Time_Format = '%H:%M'\n",
    "for i in range(len(Flight_links)):\n",
    "    # Looking Sit Time\n",
    "    if (datetime.strptime(Flight_links[i][1][2], Time_Format) - datetime.strptime(Flight_links[i][0][3], Time_Format)).seconds/60 > 60 and (datetime.strptime(Flight_links[i][1][2], Time_Format) - datetime.strptime(Flight_links[i][0][3], Time_Format)).seconds/60 < 240:\n",
    "        Cons_Flight_links.append(Flight_links[i])\n",
    "    # Looking Rest Time\n",
    "    elif (datetime.strptime(Flight_links[i][1][2], Time_Format) - datetime.strptime(Flight_links[i][0][3], Time_Format)).seconds/60 > 600 and (datetime.strptime(Flight_links[i][1][2], Time_Format) - datetime.strptime(Flight_links[i][0][3], Time_Format)).seconds/60 < 980:\n",
    "        Cons_Flight_links.append(Flight_links[i])"
   ]
  },
  {
   "cell_type": "code",
   "execution_count": null,
   "metadata": {
    "scrolled": true
   },
   "outputs": [],
   "source": [
    "Cons_Flight_links"
   ]
  },
  {
   "cell_type": "markdown",
   "metadata": {},
   "source": [
    "## Using Iterations to obtain Links with Different Initial Flights\n",
    "##### This code is obtained from Ozgun's projects directly just changing variables name."
   ]
  },
  {
   "cell_type": "code",
   "execution_count": null,
   "metadata": {},
   "outputs": [],
   "source": [
    "# Allocation for iterations\n",
    "iterations_start = np.zeros(len(Cons_Flight_links), dtype=np.uint32)\n",
    "iterations_end = np.zeros(len(Cons_Flight_links), dtype=np.uint32)\n",
    "#-----------------------------------------------------------------#  \n",
    "# Iteration Process\n",
    "for i in range(len(Cons_Flight_links)):\n",
    "    iterations_start[i] = Cons_Flight_links[i][3]\n",
    "    iterations_end[i] = Cons_Flight_links[i][4]\n",
    "#-----------------------------------------------------------------#  \n",
    "# Get rid of unnecessary initial flgihts\n",
    "iterations_start_unique = np.unique(iterations_start)\n",
    "unique, counts = np.unique(iterations_start, return_counts=True)\n",
    "occurences =  dict(zip(unique, counts))\n",
    "#-----------------------------------------------------------------#  \n",
    "# Total with 16 bit unit\n",
    "total = np.zeros(len(occurences)+1, dtype=np.uint16)\n",
    "total[0] = 0\n",
    "#-----------------------------------------------------------------#  \n",
    "# Obtainin Arrival Location for One Departure\n",
    "for i in range(len(occurences)):\n",
    "    total[i+1] = total[i] + counts[i]\n",
    "#-----------------------------------------------------------------#    \n",
    "# Allocation for Multiple 1- Links    \n",
    "MLinks_Flight = {}\n",
    "for i in range(len(iterations_start_unique)):\n",
    "    Un_Iter = iterations_start_unique[i]\n",
    "    Val_Iter = iterations_end[total[i]:total[i+1]]\n",
    "    Val_Iter = set(Val_Iter)\n",
    "    MLinks_Flight[Un_Iter] = Val_Iter"
   ]
  },
  {
   "cell_type": "code",
   "execution_count": null,
   "metadata": {
    "scrolled": true
   },
   "outputs": [],
   "source": [
    "MLinks_Flight"
   ]
  },
  {
   "cell_type": "markdown",
   "metadata": {},
   "source": [
    "## Obtaining Pairs with using \"Depth Search\""
   ]
  },
  {
   "cell_type": "code",
   "execution_count": null,
   "metadata": {},
   "outputs": [],
   "source": [
    "# Definition of Depth Search\n",
    "def dfs_paths(graph, start, goal):\n",
    "    stack = [(start, [start])]\n",
    "    while stack:\n",
    "        (vertex, path) = stack.pop()\n",
    "        if vertex in MLinks_Flight:\n",
    "            for next in graph[vertex] - set(path):\n",
    "                if next == goal:\n",
    "                    yield path + [next]\n",
    "                else:\n",
    "                    stack.append((next, path + [next]))\n",
    "                    if len(stack) == 4:\n",
    "                        exit()\n",
    "        else:\n",
    "            pass"
   ]
  },
  {
   "cell_type": "code",
   "execution_count": null,
   "metadata": {
    "scrolled": true
   },
   "outputs": [],
   "source": [
    "# Obtaining Pairs starting with ANT, ending with ANT\n",
    "pairing = []\n",
    "for i in range(len(foo)):\n",
    "    pairing.append((dfs_paths(MLinks_Flight, foo[i][0], foo[i][1])))\n",
    "    "
   ]
  },
  {
   "cell_type": "code",
   "execution_count": null,
   "metadata": {},
   "outputs": [],
   "source": [
    "for i in range(len(pairing)):\n",
    "    pairing[i] = list(pairing[i])"
   ]
  },
  {
   "cell_type": "markdown",
   "metadata": {},
   "source": [
    "## Eliminate Unnecessary Pairings\n",
    "1- Max number of flight is $3$. <br \\>\n",
    "2- Max number of duty in pairings $4$. <br \\>\n",
    "Thus, maximum number of flight in pairins must be $12$"
   ]
  },
  {
   "cell_type": "code",
   "execution_count": null,
   "metadata": {
    "scrolled": true
   },
   "outputs": [],
   "source": [
    "# First Elimination with maximum flight in pairs\n",
    "Ele1_Pairs_Ist = []\n",
    "for i in range(len(Pairs_IST)):\n",
    "    if len(Pairs_IST[i]) < 12:\n",
    "        Ele1_Pairs_Ist.append(Pairs_IST[i])"
   ]
  },
  {
   "cell_type": "code",
   "execution_count": null,
   "metadata": {},
   "outputs": [],
   "source": [
    "# Second Elimination with duties\n",
    "#'Minmum Number of duty is 2 So if we have single flight in duty so we eliminate these pairings '\n",
    "#Ele2_Pairs_Ist = []\n",
    "#for i in range(len(Ele1_Pairs_Ist)):\n",
    "#    if (datetime.strptime(FlightData[Ele1_Pairs_Ist[0][1]-1][3], Time_Format) - (datetime.strptime(FlightData[Ele1_Pairs_Ist[0][0]-1][4], Time_Format))).seconds/60 < 540:\n",
    "#        Ele2_Pairs_Ist.append(Ele1_Pairs_Ist[i])"
   ]
  },
  {
   "cell_type": "markdown",
   "metadata": {},
   "source": [
    "## Cost Calculation\n",
    "1- We need total flight time in a pairings <br>\n",
    "2- For one pairins 1 hour in flight is $500$ TL. <br>\n",
    "3- For one pairings if minutes between flight is less than 2 hour than its cost is $200$ TL. <br>"
   ]
  },
  {
   "cell_type": "markdown",
   "metadata": {},
   "source": [
    "## Obtaining Matrix\n",
    "Obtaining A, B, C Matrices with our pairings and flights. <br \\>\n",
    "A Matrix $\\Rightarrow$ FlightData x Pairing List <br \\>\n",
    "B Matrix $\\Rightarrow$ FlightData x 1 with ones  <br \\>\n",
    "C Matrix $\\Rightarrow$ 1 x Pairing List with random numbers between range $5$ and $50$  <br \\>"
   ]
  },
  {
   "cell_type": "code",
   "execution_count": null,
   "metadata": {},
   "outputs": [],
   "source": [
    "# A Matrix\n",
    "Amat = np.zeros((len(FlightData),len(Ele1_Pairs_Ist)), dtype=np.int16)\n",
    "for i in range(len(Ele1_Pairs_Ist)):\n",
    "    for j in range(len(Ele1_Pairs_Ist[i])):\n",
    "        Save_Indices = Ele1_Pairs_Ist[i][j]-1\n",
    "        Amat[Save_Indices][i] = 1\n",
    "Amat = Amat[~(Amat==0).all(1)]\n",
    "#-----------------------------------------------------------------#  \n",
    "# B Matrix\n",
    "Bmat = np.ones((Amat.shape[0],1), dtype=np.int16)\n",
    "#-----------------------------------------------------------------#\n",
    "# C Matrix\n",
    "Cmat = np.zeros(Amat.shape[1], dtype=np.int16)\n",
    "for i in range(len(Cmat)):\n",
    "    Cmat[i] = np.random.uniform(5, 25)\n",
    "#-----------------------------------------------------------------#\n",
    "# Saving Matrices as Mat File\n",
    "sio.savemat('Cmat.mat', {'Cmatrix': Cmat})\n",
    "sio.savemat('Amat.mat', {'Amatrix': Amat})\n",
    "sio.savemat('Bmat.mat', {'Bmatrix': Bmat})"
   ]
  }
 ],
 "metadata": {
  "kernelspec": {
   "display_name": "Python 3",
   "language": "python",
   "name": "python3"
  },
  "language_info": {
   "codemirror_mode": {
    "name": "ipython",
    "version": 3
   },
   "file_extension": ".py",
   "mimetype": "text/x-python",
   "name": "python",
   "nbconvert_exporter": "python",
   "pygments_lexer": "ipython3",
   "version": "3.6.4"
  }
 },
 "nbformat": 4,
 "nbformat_minor": 2
}
